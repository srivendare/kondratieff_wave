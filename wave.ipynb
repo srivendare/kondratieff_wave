{
 "cells": [
  {
   "cell_type": "code",
   "execution_count": 1,
   "metadata": {},
   "outputs": [],
   "source": [
    "import pysnowball as ball\n",
    "# 获取token的方式\n",
    "# https://blog.crackcreed.com/diy-xue-qiu-app-shu-ju-api/"
   ]
  },
  {
   "cell_type": "code",
   "execution_count": 4,
   "metadata": {},
   "outputs": [
    {
     "data": {
      "text/plain": [
       "'xq_a_token=28ec907df75d5eb5f594481acaff165413bed9d0;'"
      ]
     },
     "execution_count": 4,
     "metadata": {},
     "output_type": "execute_result"
    }
   ],
   "source": [
    "ball.set_token('xq_a_token=28ec907df75d5eb5f594481acaff165413bed9d0;')"
   ]
  },
  {
   "cell_type": "code",
   "execution_count": 5,
   "metadata": {},
   "outputs": [
    {
     "data": {
      "text/plain": [
       "{'data': [{'symbol': 'SZ002027',\n",
       "   'current': 5.17,\n",
       "   'percent': 0.58,\n",
       "   'chg': 0.03,\n",
       "   'timestamp': 1664168307000,\n",
       "   'volume': 62567682,\n",
       "   'amount': 323506158.0,\n",
       "   'market_capital': 74666172583.0,\n",
       "   'float_market_capital': 74666172583.0,\n",
       "   'turnover_rate': 0.43,\n",
       "   'amplitude': 3.11,\n",
       "   'open': 5.1,\n",
       "   'last_close': 5.14,\n",
       "   'high': 5.23,\n",
       "   'low': 5.07,\n",
       "   'avg_price': 5.17,\n",
       "   'trade_volume': 0,\n",
       "   'side': 1,\n",
       "   'is_trade': False,\n",
       "   'level': 1,\n",
       "   'trade_session': None,\n",
       "   'trade_type': None,\n",
       "   'current_year_percent': -35.45,\n",
       "   'trade_unique_id': '62567682',\n",
       "   'type': 11,\n",
       "   'bid_appl_seq_num': None,\n",
       "   'offer_appl_seq_num': None,\n",
       "   'volume_ext': None,\n",
       "   'traded_amount_ext': None,\n",
       "   'trade_type_v2': None}],\n",
       " 'error_code': 0,\n",
       " 'error_description': None}"
      ]
     },
     "execution_count": 5,
     "metadata": {},
     "output_type": "execute_result"
    }
   ],
   "source": [
    "ball.quotec('SZ002027')"
   ]
  },
  {
   "cell_type": "code",
   "execution_count": null,
   "metadata": {},
   "outputs": [],
   "source": []
  }
 ],
 "metadata": {
  "kernelspec": {
   "display_name": "Python 3.9.6 ('.env': venv)",
   "language": "python",
   "name": "python3"
  },
  "language_info": {
   "codemirror_mode": {
    "name": "ipython",
    "version": 3
   },
   "file_extension": ".py",
   "mimetype": "text/x-python",
   "name": "python",
   "nbconvert_exporter": "python",
   "pygments_lexer": "ipython3",
   "version": "3.9.6"
  },
  "orig_nbformat": 4,
  "vscode": {
   "interpreter": {
    "hash": "104b24626d5f309a66a79265c1df6158e0507c276aedd20fbd5b6b5ee0c96574"
   }
  }
 },
 "nbformat": 4,
 "nbformat_minor": 2
}
